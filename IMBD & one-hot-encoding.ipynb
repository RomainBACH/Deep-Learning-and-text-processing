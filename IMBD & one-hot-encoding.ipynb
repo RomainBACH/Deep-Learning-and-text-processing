{
 "cells": [
  {
   "cell_type": "markdown",
   "id": "445db4a7",
   "metadata": {},
   "source": [
    "## Libraries"
   ]
  },
  {
   "cell_type": "code",
   "execution_count": 21,
   "id": "d032fea4",
   "metadata": {},
   "outputs": [],
   "source": [
    "import numpy as np\n",
    "\n",
    "import tensorflow as tf\n",
    "import tensorflow.keras as keras\n",
    "import tensorflow.keras.datasets.imdb as imdb\n",
    "\n",
    "import matplotlib.pyplot as plt\n",
    "import matplotlib\n",
    "\n",
    "import pandas as pd\n",
    "\n",
    "import os,sys,h5py,json"
   ]
  },
  {
   "cell_type": "markdown",
   "id": "20c2e559",
   "metadata": {},
   "source": [
    "## Parameters"
   ]
  },
  {
   "cell_type": "code",
   "execution_count": 22,
   "id": "4755a65e",
   "metadata": {},
   "outputs": [],
   "source": [
    "vocab_size           = 5000\n",
    "hide_most_frequently = 0\n",
    "\n",
    "epochs               = 10\n",
    "batch_size           = 512\n",
    "fit_verbosity        = 1"
   ]
  },
  {
   "cell_type": "code",
   "execution_count": 23,
   "id": "302f1f36",
   "metadata": {},
   "outputs": [],
   "source": [
    "sentence = \"I've never seen a movie like this before\"\n",
    "\n",
    "dictionary  = {\"a\":0, \"before\":1, \"fantastic\":2, \"i've\":3, \"is\":4, \"like\":5, \"movie\":6, \"never\":7, \"seen\":8, \"this\":9}"
   ]
  },
  {
   "cell_type": "code",
   "execution_count": 24,
   "id": "5b529738",
   "metadata": {},
   "outputs": [
    {
     "name": "stdout",
     "output_type": "stream",
     "text": [
      "Words sentence are         :  [\"i've\", 'never', 'seen', 'a', 'movie', 'like', 'this', 'before']\n",
      "Our vectorized sentence is :  [3, 7, 8, 0, 6, 5, 9, 1]\n"
     ]
    }
   ],
   "source": [
    "sentence_words = sentence.lower().split()\n",
    "\n",
    "sentence_vect  = [ dictionary[w] for w in sentence_words ]\n",
    "\n",
    "print('Words sentence are         : ', sentence_words)\n",
    "print('Our vectorized sentence is : ', sentence_vect)"
   ]
  },
  {
   "cell_type": "code",
   "execution_count": 25,
   "id": "068529f7",
   "metadata": {},
   "outputs": [
    {
     "name": "stdout",
     "output_type": "stream",
     "text": [
      "In a basic way :\n",
      "\n",
      " [[0. 0. 0. 1. 0. 0. 0. 0.]\n",
      " [0. 0. 0. 0. 0. 0. 0. 1.]\n",
      " [0. 0. 0. 0. 0. 0. 0. 0.]\n",
      " [1. 0. 0. 0. 0. 0. 0. 0.]\n",
      " [0. 0. 0. 0. 0. 0. 0. 0.]\n",
      " [0. 0. 0. 0. 0. 1. 0. 0.]\n",
      " [0. 0. 0. 0. 1. 0. 0. 0.]\n",
      " [0. 1. 0. 0. 0. 0. 0. 0.]\n",
      " [0. 0. 1. 0. 0. 0. 0. 0.]\n",
      " [0. 0. 0. 0. 0. 0. 1. 0.]] \n",
      "\n",
      "With a pandas wiew :\n",
      "\n"
     ]
    },
    {
     "data": {
      "text/html": [
       "<style type=\"text/css\">\n",
       "#T_f39f1_row0_col0, #T_f39f1_row0_col1, #T_f39f1_row0_col2, #T_f39f1_row0_col4, #T_f39f1_row0_col5, #T_f39f1_row0_col6, #T_f39f1_row0_col7, #T_f39f1_row1_col0, #T_f39f1_row1_col1, #T_f39f1_row1_col2, #T_f39f1_row1_col3, #T_f39f1_row1_col4, #T_f39f1_row1_col5, #T_f39f1_row1_col6, #T_f39f1_row2_col0, #T_f39f1_row2_col1, #T_f39f1_row2_col2, #T_f39f1_row2_col3, #T_f39f1_row2_col4, #T_f39f1_row2_col5, #T_f39f1_row2_col6, #T_f39f1_row2_col7, #T_f39f1_row3_col1, #T_f39f1_row3_col2, #T_f39f1_row3_col3, #T_f39f1_row3_col4, #T_f39f1_row3_col5, #T_f39f1_row3_col6, #T_f39f1_row3_col7, #T_f39f1_row4_col0, #T_f39f1_row4_col1, #T_f39f1_row4_col2, #T_f39f1_row4_col3, #T_f39f1_row4_col4, #T_f39f1_row4_col5, #T_f39f1_row4_col6, #T_f39f1_row4_col7, #T_f39f1_row5_col0, #T_f39f1_row5_col1, #T_f39f1_row5_col2, #T_f39f1_row5_col3, #T_f39f1_row5_col4, #T_f39f1_row5_col6, #T_f39f1_row5_col7, #T_f39f1_row6_col0, #T_f39f1_row6_col1, #T_f39f1_row6_col2, #T_f39f1_row6_col3, #T_f39f1_row6_col5, #T_f39f1_row6_col6, #T_f39f1_row6_col7, #T_f39f1_row7_col0, #T_f39f1_row7_col2, #T_f39f1_row7_col3, #T_f39f1_row7_col4, #T_f39f1_row7_col5, #T_f39f1_row7_col6, #T_f39f1_row7_col7, #T_f39f1_row8_col0, #T_f39f1_row8_col1, #T_f39f1_row8_col3, #T_f39f1_row8_col4, #T_f39f1_row8_col5, #T_f39f1_row8_col6, #T_f39f1_row8_col7, #T_f39f1_row9_col0, #T_f39f1_row9_col1, #T_f39f1_row9_col2, #T_f39f1_row9_col3, #T_f39f1_row9_col4, #T_f39f1_row9_col5, #T_f39f1_row9_col7 {\n",
       "  text-align: center;\n",
       "}\n",
       "#T_f39f1_row0_col3, #T_f39f1_row1_col7, #T_f39f1_row3_col0, #T_f39f1_row5_col5, #T_f39f1_row6_col4, #T_f39f1_row7_col1, #T_f39f1_row8_col2, #T_f39f1_row9_col6 {\n",
       "  background-color: yellow;\n",
       "  text-align: center;\n",
       "}\n",
       "</style>\n",
       "<table id=\"T_f39f1\">\n",
       "  <thead>\n",
       "    <tr>\n",
       "      <th class=\"blank level0\" >&nbsp;</th>\n",
       "      <th id=\"T_f39f1_level0_col0\" class=\"col_heading level0 col0\" >...i've...</th>\n",
       "      <th id=\"T_f39f1_level0_col1\" class=\"col_heading level0 col1\" >..never...</th>\n",
       "      <th id=\"T_f39f1_level0_col2\" class=\"col_heading level0 col2\" >...seen...</th>\n",
       "      <th id=\"T_f39f1_level0_col3\" class=\"col_heading level0 col3\" >....a.....</th>\n",
       "      <th id=\"T_f39f1_level0_col4\" class=\"col_heading level0 col4\" >..movie...</th>\n",
       "      <th id=\"T_f39f1_level0_col5\" class=\"col_heading level0 col5\" >...like...</th>\n",
       "      <th id=\"T_f39f1_level0_col6\" class=\"col_heading level0 col6\" >...this...</th>\n",
       "      <th id=\"T_f39f1_level0_col7\" class=\"col_heading level0 col7\" >..before..</th>\n",
       "    </tr>\n",
       "  </thead>\n",
       "  <tbody>\n",
       "    <tr>\n",
       "      <th id=\"T_f39f1_level0_row0\" class=\"row_heading level0 row0\" >a</th>\n",
       "      <td id=\"T_f39f1_row0_col0\" class=\"data row0 col0\" >0</td>\n",
       "      <td id=\"T_f39f1_row0_col1\" class=\"data row0 col1\" >0</td>\n",
       "      <td id=\"T_f39f1_row0_col2\" class=\"data row0 col2\" >0</td>\n",
       "      <td id=\"T_f39f1_row0_col3\" class=\"data row0 col3\" >1</td>\n",
       "      <td id=\"T_f39f1_row0_col4\" class=\"data row0 col4\" >0</td>\n",
       "      <td id=\"T_f39f1_row0_col5\" class=\"data row0 col5\" >0</td>\n",
       "      <td id=\"T_f39f1_row0_col6\" class=\"data row0 col6\" >0</td>\n",
       "      <td id=\"T_f39f1_row0_col7\" class=\"data row0 col7\" >0</td>\n",
       "    </tr>\n",
       "    <tr>\n",
       "      <th id=\"T_f39f1_level0_row1\" class=\"row_heading level0 row1\" >before</th>\n",
       "      <td id=\"T_f39f1_row1_col0\" class=\"data row1 col0\" >0</td>\n",
       "      <td id=\"T_f39f1_row1_col1\" class=\"data row1 col1\" >0</td>\n",
       "      <td id=\"T_f39f1_row1_col2\" class=\"data row1 col2\" >0</td>\n",
       "      <td id=\"T_f39f1_row1_col3\" class=\"data row1 col3\" >0</td>\n",
       "      <td id=\"T_f39f1_row1_col4\" class=\"data row1 col4\" >0</td>\n",
       "      <td id=\"T_f39f1_row1_col5\" class=\"data row1 col5\" >0</td>\n",
       "      <td id=\"T_f39f1_row1_col6\" class=\"data row1 col6\" >0</td>\n",
       "      <td id=\"T_f39f1_row1_col7\" class=\"data row1 col7\" >1</td>\n",
       "    </tr>\n",
       "    <tr>\n",
       "      <th id=\"T_f39f1_level0_row2\" class=\"row_heading level0 row2\" >fantastic</th>\n",
       "      <td id=\"T_f39f1_row2_col0\" class=\"data row2 col0\" >0</td>\n",
       "      <td id=\"T_f39f1_row2_col1\" class=\"data row2 col1\" >0</td>\n",
       "      <td id=\"T_f39f1_row2_col2\" class=\"data row2 col2\" >0</td>\n",
       "      <td id=\"T_f39f1_row2_col3\" class=\"data row2 col3\" >0</td>\n",
       "      <td id=\"T_f39f1_row2_col4\" class=\"data row2 col4\" >0</td>\n",
       "      <td id=\"T_f39f1_row2_col5\" class=\"data row2 col5\" >0</td>\n",
       "      <td id=\"T_f39f1_row2_col6\" class=\"data row2 col6\" >0</td>\n",
       "      <td id=\"T_f39f1_row2_col7\" class=\"data row2 col7\" >0</td>\n",
       "    </tr>\n",
       "    <tr>\n",
       "      <th id=\"T_f39f1_level0_row3\" class=\"row_heading level0 row3\" >i've</th>\n",
       "      <td id=\"T_f39f1_row3_col0\" class=\"data row3 col0\" >1</td>\n",
       "      <td id=\"T_f39f1_row3_col1\" class=\"data row3 col1\" >0</td>\n",
       "      <td id=\"T_f39f1_row3_col2\" class=\"data row3 col2\" >0</td>\n",
       "      <td id=\"T_f39f1_row3_col3\" class=\"data row3 col3\" >0</td>\n",
       "      <td id=\"T_f39f1_row3_col4\" class=\"data row3 col4\" >0</td>\n",
       "      <td id=\"T_f39f1_row3_col5\" class=\"data row3 col5\" >0</td>\n",
       "      <td id=\"T_f39f1_row3_col6\" class=\"data row3 col6\" >0</td>\n",
       "      <td id=\"T_f39f1_row3_col7\" class=\"data row3 col7\" >0</td>\n",
       "    </tr>\n",
       "    <tr>\n",
       "      <th id=\"T_f39f1_level0_row4\" class=\"row_heading level0 row4\" >is</th>\n",
       "      <td id=\"T_f39f1_row4_col0\" class=\"data row4 col0\" >0</td>\n",
       "      <td id=\"T_f39f1_row4_col1\" class=\"data row4 col1\" >0</td>\n",
       "      <td id=\"T_f39f1_row4_col2\" class=\"data row4 col2\" >0</td>\n",
       "      <td id=\"T_f39f1_row4_col3\" class=\"data row4 col3\" >0</td>\n",
       "      <td id=\"T_f39f1_row4_col4\" class=\"data row4 col4\" >0</td>\n",
       "      <td id=\"T_f39f1_row4_col5\" class=\"data row4 col5\" >0</td>\n",
       "      <td id=\"T_f39f1_row4_col6\" class=\"data row4 col6\" >0</td>\n",
       "      <td id=\"T_f39f1_row4_col7\" class=\"data row4 col7\" >0</td>\n",
       "    </tr>\n",
       "    <tr>\n",
       "      <th id=\"T_f39f1_level0_row5\" class=\"row_heading level0 row5\" >like</th>\n",
       "      <td id=\"T_f39f1_row5_col0\" class=\"data row5 col0\" >0</td>\n",
       "      <td id=\"T_f39f1_row5_col1\" class=\"data row5 col1\" >0</td>\n",
       "      <td id=\"T_f39f1_row5_col2\" class=\"data row5 col2\" >0</td>\n",
       "      <td id=\"T_f39f1_row5_col3\" class=\"data row5 col3\" >0</td>\n",
       "      <td id=\"T_f39f1_row5_col4\" class=\"data row5 col4\" >0</td>\n",
       "      <td id=\"T_f39f1_row5_col5\" class=\"data row5 col5\" >1</td>\n",
       "      <td id=\"T_f39f1_row5_col6\" class=\"data row5 col6\" >0</td>\n",
       "      <td id=\"T_f39f1_row5_col7\" class=\"data row5 col7\" >0</td>\n",
       "    </tr>\n",
       "    <tr>\n",
       "      <th id=\"T_f39f1_level0_row6\" class=\"row_heading level0 row6\" >movie</th>\n",
       "      <td id=\"T_f39f1_row6_col0\" class=\"data row6 col0\" >0</td>\n",
       "      <td id=\"T_f39f1_row6_col1\" class=\"data row6 col1\" >0</td>\n",
       "      <td id=\"T_f39f1_row6_col2\" class=\"data row6 col2\" >0</td>\n",
       "      <td id=\"T_f39f1_row6_col3\" class=\"data row6 col3\" >0</td>\n",
       "      <td id=\"T_f39f1_row6_col4\" class=\"data row6 col4\" >1</td>\n",
       "      <td id=\"T_f39f1_row6_col5\" class=\"data row6 col5\" >0</td>\n",
       "      <td id=\"T_f39f1_row6_col6\" class=\"data row6 col6\" >0</td>\n",
       "      <td id=\"T_f39f1_row6_col7\" class=\"data row6 col7\" >0</td>\n",
       "    </tr>\n",
       "    <tr>\n",
       "      <th id=\"T_f39f1_level0_row7\" class=\"row_heading level0 row7\" >never</th>\n",
       "      <td id=\"T_f39f1_row7_col0\" class=\"data row7 col0\" >0</td>\n",
       "      <td id=\"T_f39f1_row7_col1\" class=\"data row7 col1\" >1</td>\n",
       "      <td id=\"T_f39f1_row7_col2\" class=\"data row7 col2\" >0</td>\n",
       "      <td id=\"T_f39f1_row7_col3\" class=\"data row7 col3\" >0</td>\n",
       "      <td id=\"T_f39f1_row7_col4\" class=\"data row7 col4\" >0</td>\n",
       "      <td id=\"T_f39f1_row7_col5\" class=\"data row7 col5\" >0</td>\n",
       "      <td id=\"T_f39f1_row7_col6\" class=\"data row7 col6\" >0</td>\n",
       "      <td id=\"T_f39f1_row7_col7\" class=\"data row7 col7\" >0</td>\n",
       "    </tr>\n",
       "    <tr>\n",
       "      <th id=\"T_f39f1_level0_row8\" class=\"row_heading level0 row8\" >seen</th>\n",
       "      <td id=\"T_f39f1_row8_col0\" class=\"data row8 col0\" >0</td>\n",
       "      <td id=\"T_f39f1_row8_col1\" class=\"data row8 col1\" >0</td>\n",
       "      <td id=\"T_f39f1_row8_col2\" class=\"data row8 col2\" >1</td>\n",
       "      <td id=\"T_f39f1_row8_col3\" class=\"data row8 col3\" >0</td>\n",
       "      <td id=\"T_f39f1_row8_col4\" class=\"data row8 col4\" >0</td>\n",
       "      <td id=\"T_f39f1_row8_col5\" class=\"data row8 col5\" >0</td>\n",
       "      <td id=\"T_f39f1_row8_col6\" class=\"data row8 col6\" >0</td>\n",
       "      <td id=\"T_f39f1_row8_col7\" class=\"data row8 col7\" >0</td>\n",
       "    </tr>\n",
       "    <tr>\n",
       "      <th id=\"T_f39f1_level0_row9\" class=\"row_heading level0 row9\" >this</th>\n",
       "      <td id=\"T_f39f1_row9_col0\" class=\"data row9 col0\" >0</td>\n",
       "      <td id=\"T_f39f1_row9_col1\" class=\"data row9 col1\" >0</td>\n",
       "      <td id=\"T_f39f1_row9_col2\" class=\"data row9 col2\" >0</td>\n",
       "      <td id=\"T_f39f1_row9_col3\" class=\"data row9 col3\" >0</td>\n",
       "      <td id=\"T_f39f1_row9_col4\" class=\"data row9 col4\" >0</td>\n",
       "      <td id=\"T_f39f1_row9_col5\" class=\"data row9 col5\" >0</td>\n",
       "      <td id=\"T_f39f1_row9_col6\" class=\"data row9 col6\" >1</td>\n",
       "      <td id=\"T_f39f1_row9_col7\" class=\"data row9 col7\" >0</td>\n",
       "    </tr>\n",
       "  </tbody>\n",
       "</table>\n"
      ],
      "text/plain": [
       "<pandas.io.formats.style.Styler at 0x23576c7a1c0>"
      ]
     },
     "execution_count": 25,
     "metadata": {},
     "output_type": "execute_result"
    }
   ],
   "source": [
    "# ---- We get a (sentence length x vector size) matrix of zeros\n",
    "#\n",
    "onehot = np.zeros( (10,8) )\n",
    "\n",
    "# ---- We set some 1 for each word\n",
    "#\n",
    "for i,w in enumerate(sentence_vect):\n",
    "    onehot[w,i]=1\n",
    "\n",
    "# --- Show it\n",
    "#\n",
    "print('In a basic way :\\n\\n', onehot, '\\n\\nWith a pandas wiew :\\n')\n",
    "data={ f'{sentence_words[i]:.^10}':onehot[:,i] for i,w in enumerate(sentence_vect) }\n",
    "df=pd.DataFrame(data)\n",
    "df.index=dictionary.keys()\n",
    "# --- Pandas Warning \n",
    "# \n",
    "df.style.format('{:1.0f}').highlight_max(axis=0).set_properties(**{'text-align': 'center'})"
   ]
  },
  {
   "cell_type": "markdown",
   "id": "b57f711b",
   "metadata": {},
   "source": [
    "## IMBD data"
   ]
  },
  {
   "cell_type": "code",
   "execution_count": 26,
   "id": "dd71c161",
   "metadata": {},
   "outputs": [
    {
     "name": "stdout",
     "output_type": "stream",
     "text": [
      "x_train : (25000,)  y_train : (25000,)\n",
      "x_test  : (25000,)  y_test  : (25000,)\n"
     ]
    }
   ],
   "source": [
    "#----- Retrieve x,y\n",
    "#\n",
    "(x_train, y_train), (x_test, y_test) = imdb.load_data( num_words=vocab_size, skip_top=hide_most_frequently)\n",
    "\n",
    "y_train = np.asarray(y_train).astype('float32')\n",
    "y_test  = np.asarray(y_test ).astype('float32')\n",
    "\n",
    "# ---- About\n",
    "#\n",
    "\n",
    "print(\"x_train : {}  y_train : {}\".format(x_train.shape, y_train.shape))\n",
    "print(\"x_test  : {}  y_test  : {}\".format(x_test.shape,  y_test.shape))"
   ]
  },
  {
   "cell_type": "code",
   "execution_count": 27,
   "id": "29cf0306",
   "metadata": {},
   "outputs": [
    {
     "name": "stdout",
     "output_type": "stream",
     "text": [
      "\n",
      "Review example (x_train[12]) :\n",
      "\n",
      " [1, 13, 119, 954, 189, 1554, 13, 92, 459, 48, 4, 116, 9, 1492, 2291, 42, 726, 4, 1939, 168, 2031, 13, 423, 14, 20, 549, 18, 4, 2, 547, 32, 4, 96, 39, 4, 454, 7, 4, 22, 8, 4, 55, 130, 168, 13, 92, 359, 6, 158, 1511, 2, 42, 6, 1913, 19, 194, 4455, 4121, 6, 114, 8, 72, 21, 465, 2, 304, 4, 51, 9, 14, 20, 44, 155, 8, 6, 226, 162, 616, 651, 51, 9, 14, 20, 44, 10, 10, 14, 218, 4843, 629, 42, 3017, 21, 48, 25, 28, 35, 534, 5, 6, 320, 8, 516, 5, 42, 25, 181, 8, 130, 56, 547, 3571, 5, 1471, 851, 14, 2286]\n",
      "\n",
      "Opinions (y_train) :\n",
      "\n",
      " [1. 0. 0. ... 0. 1. 0.]\n"
     ]
    }
   ],
   "source": [
    "print('\\nReview example (x_train[12]) :\\n\\n',x_train[12])\n",
    "print('\\nOpinions (y_train) :\\n\\n',y_train)"
   ]
  },
  {
   "cell_type": "code",
   "execution_count": 28,
   "id": "f8bc7376",
   "metadata": {},
   "outputs": [
    {
     "name": "stdout",
     "output_type": "stream",
     "text": [
      "\n",
      "Dictionary size     :  88588\n",
      "\n",
      "Small extract :\n",
      "\n",
      "    440 : hope\n",
      "    441 : entertaining\n",
      "    442 : she's\n",
      "    443 : mr\n",
      "    444 : overall\n",
      "    445 : evil\n",
      "    446 : called\n",
      "    447 : loved\n",
      "    448 : based\n",
      "    449 : oh\n",
      "    450 : several\n",
      "    451 : fans\n",
      "    452 : mother\n",
      "    453 : drama\n",
      "    454 : beginning\n"
     ]
    }
   ],
   "source": [
    "# ---- Retrieve dictionary {word:index}, and encode it in ascii\n",
    "#\n",
    "word_index = imdb.get_word_index()\n",
    "\n",
    "# ---- Shift the dictionary from +3\n",
    "#\n",
    "word_index = {w:(i+3) for w,i in word_index.items()}\n",
    "\n",
    "# ---- Add <pad>, <start> and <unknown> tags\n",
    "#\n",
    "word_index.update( {'<pad>':0, '<start>':1, '<unknown>':2, '<undef>':3,} )\n",
    "\n",
    "# ---- Create a reverse dictionary : {index:word}\n",
    "#\n",
    "index_word = {index:word for word,index in word_index.items()} \n",
    "\n",
    "# ---- About dictionary\n",
    "#\n",
    "print('\\nDictionary size     : ', len(word_index))\n",
    "print('\\nSmall extract :\\n')\n",
    "for k in range(440,455):print(f'    {k:2d} : {index_word[k]}' )\n",
    "\n",
    "# ---- Add a nice function to transpose :\n",
    "#\n",
    "def dataset2text(review):\n",
    "    return ' '.join([index_word.get(i, '?') for i in review])"
   ]
  },
  {
   "cell_type": "code",
   "execution_count": 29,
   "id": "075223ea",
   "metadata": {},
   "outputs": [
    {
     "name": "stdout",
     "output_type": "stream",
     "text": [
      "Review example\n",
      "[1, 13, 119, 954, 189, 1554, 13, 92, 459, 48, 4, 116, 9, 1492, 2291, 42, 726, 4, 1939, 168, 2031, 13, 423, 14, 20, 549, 18, 4, 2, 547, 32, 4, 96, 39, 4, 454, 7, 4, 22, 8, 4, 55, 130, 168, 13, 92, 359, 6, 158, 1511, 2, 42, 6, 1913, 19, 194, 4455, 4121, 6, 114, 8, 72, 21, 465, 2, 304, 4, 51, 9, 14, 20, 44, 155, 8, 6, 226, 162, 616, 651, 51, 9, 14, 20, 44, 10, 10, 14, 218, 4843, 629, 42, 3017, 21, 48, 25, 28, 35, 534, 5, 6, 320, 8, 516, 5, 42, 25, 181, 8, 130, 56, 547, 3571, 5, 1471, 851, 14, 2286]\n",
      "Translate\n",
      "<start> i love cheesy horror flicks i don't care if the acting is sub par or whether the monsters look corny i liked this movie except for the <unknown> feeling all the way from the beginning of the film to the very end look i don't need a 10 page <unknown> or a sign with big letters explaining a plot to me but dark <unknown> takes the what is this movie about thing to a whole new annoying level what is this movie about br br this isn't exceptionally scary or thrilling but if you have an hour and a half to kill and or you want to end up feeling frustrated and confused rent this winner\n"
     ]
    }
   ],
   "source": [
    "print (\"Review example\")\n",
    "print(x_train[12])\n",
    "print(\"Translate\")\n",
    "print(dataset2text(x_train[12]))"
   ]
  },
  {
   "cell_type": "code",
   "execution_count": 30,
   "id": "2a941658",
   "metadata": {},
   "outputs": [
    {
     "data": {
      "image/png": "[encoded data removed]",
      "text/plain": [
       "<Figure size 2304x1152 with 1 Axes>"
      ]
     },
     "metadata": {
      "needs_background": "light"
     },
     "output_type": "display_data"
    }
   ],
   "source": [
    "sizes=[len(i) for i in x_train]\n",
    "plt.figure(figsize=(32,16))\n",
    "plt.hist(sizes, bins=400)\n",
    "plt.gca().set(title='Distribution of reviews by size - [{:5.2f}, {:5.2f}]'.format(min(sizes),max(sizes)), \n",
    "              xlabel='Size', ylabel='Density', xlim=[0,1500])\n",
    "plt.show()"
   ]
  },
  {
   "cell_type": "code",
   "execution_count": 31,
   "id": "11f44f6a",
   "metadata": {},
   "outputs": [
    {
     "data": {
      "image/png": "[encoded data removed]",
      "text/plain": [
       "<Figure size 2304x1152 with 1 Axes>"
      ]
     },
     "metadata": {
      "needs_background": "light"
     },
     "output_type": "display_data"
    }
   ],
   "source": [
    "unk=[ 100*(s.count(2)/len(s)) for s in x_train]\n",
    "plt.figure(figsize=(32,16))\n",
    "plt.hist(unk, bins=100)\n",
    "plt.gca().set(title='Percent of unknown words - [{:5.2f}, {:5.2f}]'.format(min(unk),max(unk)), \n",
    "              xlabel='# unknown', ylabel='Density', xlim=[0,30])\n",
    "plt.show()"
   ]
  },
  {
   "cell_type": "code",
   "execution_count": 32,
   "id": "d3880278",
   "metadata": {},
   "outputs": [],
   "source": [
    "def one_hot_encoder(x, vector_size=10000):\n",
    "    \n",
    "    # ---- Set all to 0\n",
    "    #\n",
    "    x_encoded = np.zeros((len(x), vector_size))\n",
    "    \n",
    "    # ---- For each sentence\n",
    "    #\n",
    "    for i,sentence in enumerate(x):\n",
    "        for word in sentence:\n",
    "            x_encoded[i, word] = 1.\n",
    "\n",
    "    return x_encoded"
   ]
  },
  {
   "cell_type": "code",
   "execution_count": 33,
   "id": "e62e2e00",
   "metadata": {},
   "outputs": [
    {
     "name": "stdout",
     "output_type": "stream",
     "text": [
      "To have a look, x_train[12] became : [0. 1. 1. ... 0. 0. 0.]\n"
     ]
    }
   ],
   "source": [
    "x_train = one_hot_encoder(x_train, vector_size=vocab_size)\n",
    "x_test  = one_hot_encoder(x_test,  vector_size=vocab_size)\n",
    "\n",
    "print(\"To have a look, x_train[12] became :\", x_train[12] )"
   ]
  },
  {
   "cell_type": "markdown",
   "id": "77a7b48e",
   "metadata": {},
   "source": [
    "## Model"
   ]
  },
  {
   "cell_type": "code",
   "execution_count": 34,
   "id": "bed1a2bd",
   "metadata": {},
   "outputs": [],
   "source": [
    "def get_model(vector_size=10000):\n",
    "    \n",
    "    model = keras.Sequential()\n",
    "    model.add(keras.layers.Input( shape=(vector_size,) ))\n",
    "    model.add(keras.layers.Dense( 32, activation='relu'))\n",
    "    model.add(keras.layers.Dense( 32, activation='relu'))\n",
    "    model.add(keras.layers.Dense( 1, activation='sigmoid'))\n",
    "    \n",
    "    model.compile(optimizer = 'rmsprop',\n",
    "                  loss      = 'binary_crossentropy',\n",
    "                  metrics   = ['accuracy'])\n",
    "    return model"
   ]
  },
  {
   "cell_type": "code",
   "execution_count": 35,
   "id": "3aefacc5",
   "metadata": {},
   "outputs": [
    {
     "name": "stdout",
     "output_type": "stream",
     "text": [
      "Model: \"sequential_1\"\n",
      "_________________________________________________________________\n",
      " Layer (type)                Output Shape              Param #   \n",
      "=================================================================\n",
      " dense_3 (Dense)             (None, 32)                160032    \n",
      "                                                                 \n",
      " dense_4 (Dense)             (None, 32)                1056      \n",
      "                                                                 \n",
      " dense_5 (Dense)             (None, 1)                 33        \n",
      "                                                                 \n",
      "=================================================================\n",
      "Total params: 161,121\n",
      "Trainable params: 161,121\n",
      "Non-trainable params: 0\n",
      "_________________________________________________________________\n"
     ]
    }
   ],
   "source": [
    "model = get_model(vector_size=vocab_size)\n",
    "\n",
    "model.summary()"
   ]
  },
  {
   "cell_type": "code",
   "execution_count": 36,
   "id": "3a14e516",
   "metadata": {},
   "outputs": [],
   "source": [
    "run_dir='Text'\n",
    "\n",
    "os.makedirs(f'{run_dir}/models',   mode=0o750, exist_ok=True)\n",
    "save_dir = f'{run_dir}/models/best_model.h5'\n",
    "savemodel_callback = tf.keras.callbacks.ModelCheckpoint(filepath=save_dir, verbose=0, save_best_only=True)"
   ]
  },
  {
   "cell_type": "code",
   "execution_count": 37,
   "id": "198b33f7",
   "metadata": {},
   "outputs": [
    {
     "name": "stdout",
     "output_type": "stream",
     "text": [
      "Epoch 1/10\n",
      "49/49 [==============================] - 4s 50ms/step - loss: 0.4405 - accuracy: 0.8128 - val_loss: 0.3796 - val_accuracy: 0.8400\n",
      "Epoch 2/10\n",
      "49/49 [==============================] - 1s 27ms/step - loss: 0.2683 - accuracy: 0.8978 - val_loss: 0.3273 - val_accuracy: 0.8638\n",
      "Epoch 3/10\n",
      "49/49 [==============================] - 1s 26ms/step - loss: 0.2268 - accuracy: 0.9129 - val_loss: 0.2850 - val_accuracy: 0.8841\n",
      "Epoch 4/10\n",
      "49/49 [==============================] - 1s 22ms/step - loss: 0.1993 - accuracy: 0.9231 - val_loss: 0.3208 - val_accuracy: 0.8721\n",
      "Epoch 5/10\n",
      "49/49 [==============================] - 1s 26ms/step - loss: 0.1824 - accuracy: 0.9296 - val_loss: 0.3122 - val_accuracy: 0.8774\n",
      "Epoch 6/10\n",
      "49/49 [==============================] - 1s 23ms/step - loss: 0.1603 - accuracy: 0.9391 - val_loss: 0.3829 - val_accuracy: 0.8582\n",
      "Epoch 7/10\n",
      "49/49 [==============================] - 1s 23ms/step - loss: 0.1467 - accuracy: 0.9452 - val_loss: 0.4196 - val_accuracy: 0.8491\n",
      "Epoch 8/10\n",
      "49/49 [==============================] - 1s 23ms/step - loss: 0.1263 - accuracy: 0.9555 - val_loss: 0.3608 - val_accuracy: 0.8720\n",
      "Epoch 9/10\n",
      "49/49 [==============================] - 1s 23ms/step - loss: 0.1144 - accuracy: 0.9583 - val_loss: 0.3756 - val_accuracy: 0.8715\n",
      "Epoch 10/10\n",
      "49/49 [==============================] - 1s 22ms/step - loss: 0.0968 - accuracy: 0.9668 - val_loss: 0.4185 - val_accuracy: 0.8632\n"
     ]
    }
   ],
   "source": [
    "history = model.fit(x_train,\n",
    "                    y_train,\n",
    "                    epochs          = epochs,\n",
    "                    batch_size      = batch_size,\n",
    "                    validation_data = (x_test, y_test),\n",
    "                    verbose         = fit_verbosity,\n",
    "                    callbacks       = [savemodel_callback])\n"
   ]
  },
  {
   "cell_type": "markdown",
   "id": "719ba334",
   "metadata": {},
   "source": [
    "## Plot results"
   ]
  },
  {
   "cell_type": "code",
   "execution_count": 39,
   "id": "c15d76a0",
   "metadata": {},
   "outputs": [
    {
     "data": {
      "image/png": "[encoded data removed]",
      "text/plain": [
       "<Figure size 576x576 with 2 Axes>"
      ]
     },
     "metadata": {
      "needs_background": "light"
     },
     "output_type": "display_data"
    }
   ],
   "source": [
    "acc = history.history['accuracy']\n",
    "val_acc = history.history['val_accuracy']\n",
    "\n",
    "loss = history.history['loss']\n",
    "val_loss = history.history['val_loss']\n",
    "\n",
    "epochs_range = range(epochs)\n",
    "\n",
    "plt.figure(figsize=(8, 8))\n",
    "plt.subplot(1, 2, 1)\n",
    "plt.plot(epochs_range, acc, label='Training Accuracy')\n",
    "plt.plot(epochs_range, val_acc, label='Validation Accuracy')\n",
    "plt.legend(loc='lower right')\n",
    "plt.title('Training and Validation Accuracy')\n",
    "\n",
    "plt.subplot(1, 2, 2)\n",
    "plt.plot(epochs_range, loss, label='Training Loss')\n",
    "plt.plot(epochs_range, val_loss, label='Validation Loss')\n",
    "plt.legend(loc='upper right')\n",
    "plt.title('Training and Validation Loss')\n",
    "plt.show()"
   ]
  },
  {
   "cell_type": "code",
   "execution_count": 41,
   "id": "b134fe44",
   "metadata": {},
   "outputs": [
    {
     "name": "stdout",
     "output_type": "stream",
     "text": [
      "x_test / loss      : 0.2850\n",
      "x_test / accuracy  : 0.8841\n"
     ]
    }
   ],
   "source": [
    "model = keras.models.load_model(f'{run_dir}/models/best_model.h5')\n",
    "\n",
    "# ---- Evaluate\n",
    "score  = model.evaluate(x_test, y_test, verbose=0)\n",
    "\n",
    "print('x_test / loss      : {:5.4f}'.format(score[0]))\n",
    "print('x_test / accuracy  : {:5.4f}'.format(score[1]))\n",
    "\n"
   ]
  },
  {
   "cell_type": "code",
   "execution_count": 53,
   "id": "e46e29f9",
   "metadata": {},
   "outputs": [
    {
     "data": {
      "text/plain": [
       "([<matplotlib.patches.Wedge at 0x2350c00a0d0>,\n",
       "  <matplotlib.patches.Wedge at 0x2350c00a7f0>],\n",
       " [Text(-0.7196110660647225, -0.8319614856453356, 'Accuracy'),\n",
       "  Text(0.7196110660647226, 0.8319614856453355, 'Errors')],\n",
       " [Text(-0.392515126944394, -0.4537971739883648, '88.4%'),\n",
       "  Text(0.3925151269443941, 0.4537971739883647, '11.6%')])"
      ]
     },
     "execution_count": 53,
     "metadata": {},
     "output_type": "execute_result"
    },
    {
     "data": {
      "image/png": "[encoded data removed]",
      "text/plain": [
       "<Figure size 432x288 with 1 Axes>"
      ]
     },
     "metadata": {},
     "output_type": "display_data"
    }
   ],
   "source": [
    "values=[score[1], 1-score[1]]\n",
    "plt.pie(values, labels=[\"Accuracy\", \"Errors\"], autopct='%1.1f%%', startangle=70, \n",
    "            textprops={'fontsize': 18})\n",
    "\n"
   ]
  },
  {
   "cell_type": "code",
   "execution_count": 61,
   "id": "10183cdc",
   "metadata": {},
   "outputs": [
    {
     "name": "stdout",
     "output_type": "stream",
     "text": [
      "782/782 [==============================] - 2s 3ms/step\n",
      "tf.Tensor(\n",
      "[[11143  1357]\n",
      " [ 1540 10960]], shape=(2, 2), dtype=int32)\n"
     ]
    },
    {
     "data": {
      "text/plain": [
       "<AxesSubplot:>"
      ]
     },
     "execution_count": 61,
     "metadata": {},
     "output_type": "execute_result"
    },
    {
     "data": {
      "image/png": "[encoded data removed]",
      "text/plain": [
       "<Figure size 432x288 with 2 Axes>"
      ]
     },
     "metadata": {
      "needs_background": "light"
     },
     "output_type": "display_data"
    }
   ],
   "source": [
    "# ---- Confusion matrix\n",
    "import seaborn as sns\n",
    "\n",
    "y_sigmoid = model.predict(x_test)\n",
    "\n",
    "y_pred = y_sigmoid.copy()\n",
    "y_pred[ y_sigmoid< 0.5 ] = 0\n",
    "y_pred[ y_sigmoid>=0.5 ] = 1    \n",
    "\n",
    "cf_matrix=tf.math.confusion_matrix(y_test, y_pred)\n",
    "print(cf_matrix)\n",
    "sns.heatmap(cf_matrix, annot=True)"
   ]
  },
  {
   "cell_type": "code",
   "execution_count": 59,
   "id": "ae8500e8",
   "metadata": {},
   "outputs": [
    {
     "name": "stdout",
     "output_type": "stream",
     "text": [
      "         0        1\n",
      "0  0.89144  0.10856\n",
      "1  0.12320  0.87680\n"
     ]
    }
   ],
   "source": [
    "from sklearn.metrics import confusion_matrix\n",
    "\n",
    "cm = confusion_matrix( y_test, y_pred, normalize=\"true\")\n",
    "df=pd.DataFrame(cm)\n",
    "print(df)"
   ]
  },
  {
   "cell_type": "code",
   "execution_count": null,
   "id": "c9b861de",
   "metadata": {},
   "outputs": [],
   "source": []
  }
 ],
 "metadata": {
  "kernelspec": {
   "display_name": "Python 3 (ipykernel)",
   "language": "python",
   "name": "python3"
  },
  "language_info": {
   "codemirror_mode": {
    "name": "ipython",
    "version": 3
   },
   "file_extension": ".py",
   "mimetype": "text/x-python",
   "name": "python",
   "nbconvert_exporter": "python",
   "pygments_lexer": "ipython3",
   "version": "3.9.12"
  }
 },
 "nbformat": 4,
 "nbformat_minor": 5
}
