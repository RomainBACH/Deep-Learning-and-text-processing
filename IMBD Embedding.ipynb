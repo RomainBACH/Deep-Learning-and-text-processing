{
 "cells": [
  {
   "cell_type": "markdown",
   "id": "2ce0005f",
   "metadata": {},
   "source": [
    "## Libraries"
   ]
  },
  {
   "cell_type": "code",
   "execution_count": 1,
   "id": "abe7c385",
   "metadata": {},
   "outputs": [],
   "source": [
    "import numpy as np\n",
    "\n",
    "import tensorflow as tf\n",
    "import tensorflow.keras as keras\n",
    "import tensorflow.keras.datasets.imdb as imdb\n",
    "\n",
    "import matplotlib.pyplot as plt\n",
    "import matplotlib\n",
    "\n",
    "import os,sys,h5py,json,re"
   ]
  },
  {
   "cell_type": "markdown",
   "id": "b1478c7f",
   "metadata": {},
   "source": [
    "## Parameters"
   ]
  },
  {
   "cell_type": "code",
   "execution_count": 2,
   "id": "4aca2323",
   "metadata": {},
   "outputs": [],
   "source": [
    "vocab_size           = 5000\n",
    "hide_most_frequently = 0\n",
    "\n",
    "review_len           = 256\n",
    "dense_vector_size    = 32\n",
    "\n",
    "epochs               = 30\n",
    "batch_size           = 512\n",
    "\n",
    "fit_verbosity        = 1"
   ]
  },
  {
   "cell_type": "markdown",
   "id": "a0cc6f2c",
   "metadata": {},
   "source": [
    "## Dataset"
   ]
  },
  {
   "cell_type": "code",
   "execution_count": 3,
   "id": "9d786009",
   "metadata": {},
   "outputs": [
    {
     "name": "stdout",
     "output_type": "stream",
     "text": [
      "x_train : (25000,)  y_train : (25000,)\n",
      "x_test  : (25000,)  y_test  : (25000,)\n"
     ]
    }
   ],
   "source": [
    "(x_train, y_train), (x_test, y_test) = imdb.load_data( num_words=vocab_size, skip_top=hide_most_frequently, seed= 42,)\n",
    "\n",
    "y_train = np.asarray(y_train).astype('float32')\n",
    "y_test  = np.asarray(y_test ).astype('float32')\n",
    "\n",
    "# ---- About\n",
    "print(\"x_train : {}  y_train : {}\".format(x_train.shape, y_train.shape))\n",
    "print(\"x_test  : {}  y_test  : {}\".format(x_test.shape,  y_test.shape))"
   ]
  },
  {
   "cell_type": "code",
   "execution_count": 4,
   "id": "c45493dd",
   "metadata": {},
   "outputs": [],
   "source": [
    "# ---- Retrieve dictionary {word:index}, and encode it in ascii\n",
    "#      Shift the dictionary from +3\n",
    "#      Add <pad>, <start> and <unknown> tags\n",
    "#      Create a reverse dictionary : {index:word}\n",
    "#\n",
    "word_index = imdb.get_word_index()\n",
    "word_index = {w:(i+3) for w,i in word_index.items()}\n",
    "word_index.update( {'<pad>':0, '<start>':1, '<unknown>':2, '<undef>':3,} )\n",
    "index_word = {index:word for word,index in word_index.items()} \n",
    "\n",
    "# ---- A nice function to transpose :\n",
    "#\n",
    "def dataset2text(review):\n",
    "    return ' '.join([index_word.get(i, '?') for i in review])"
   ]
  },
  {
   "cell_type": "code",
   "execution_count": 5,
   "id": "82c4b2ad",
   "metadata": {},
   "outputs": [
    {
     "name": "stdout",
     "output_type": "stream",
     "text": [
      "[   1   14   22 1367   53  206  159    4  636  898   74   26   11  436\n",
      "  363  108    7   14  432   14   22    9 1055   34    2    2    5  381\n",
      " 3705 4509   14  768   47  839   25  111 1517 2579 1991  438 2663  587\n",
      "    4  280  725    6   58   11 2714  201    4  206   16  702    5    2\n",
      "   19  480    2  157   13   64  219    4    2   11  107  665 1212   39\n",
      "    4  206    4   65  410   16  565    5   24   43  343   17    2    8\n",
      "  169  101   85  206  108    8 3008   14   25  215  168   18    6 2579\n",
      " 1991  438    2   11  129 1609   36   26   66  290 3303   46    5  633\n",
      "  115 4363    0    0    0    0    0    0    0    0    0    0    0    0\n",
      "    0    0    0    0    0    0    0    0    0    0    0    0    0    0\n",
      "    0    0    0    0    0    0    0    0    0    0    0    0    0    0\n",
      "    0    0    0    0    0    0    0    0    0    0    0    0    0    0\n",
      "    0    0    0    0    0    0    0    0    0    0    0    0    0    0\n",
      "    0    0    0    0    0    0    0    0    0    0    0    0    0    0\n",
      "    0    0    0    0    0    0    0    0    0    0    0    0    0    0\n",
      "    0    0    0    0    0    0    0    0    0    0    0    0    0    0\n",
      "    0    0    0    0    0    0    0    0    0    0    0    0    0    0\n",
      "    0    0    0    0    0    0    0    0    0    0    0    0    0    0\n",
      "    0    0    0    0]\n"
     ]
    }
   ],
   "source": [
    "x_train = keras.preprocessing.sequence.pad_sequences(x_train,\n",
    "                                                     value   = 0,\n",
    "                                                     padding = 'post',\n",
    "                                                     maxlen  = review_len)\n",
    "\n",
    "x_test  = keras.preprocessing.sequence.pad_sequences(x_test,\n",
    "                                                     value   = 0 ,\n",
    "                                                     padding = 'post',\n",
    "                                                     maxlen  = review_len)\n",
    "\n",
    "print(x_train[12])"
   ]
  },
  {
   "cell_type": "code",
   "execution_count": 6,
   "id": "767485bb",
   "metadata": {},
   "outputs": [
    {
     "name": "stdout",
     "output_type": "stream",
     "text": [
      "Saved.\n"
     ]
    }
   ],
   "source": [
    "output_dir           = 'Text'\n",
    "\n",
    "with h5py.File(f'{output_dir}/dataset_imdb.h5', 'w') as f:\n",
    "    f.create_dataset(\"x_train\",    data=x_train)\n",
    "    f.create_dataset(\"y_train\",    data=y_train)\n",
    "    f.create_dataset(\"x_test\",     data=x_test)\n",
    "    f.create_dataset(\"y_test\",     data=y_test)\n",
    "\n",
    "with open(f'{output_dir}/word_index.json', 'w') as fp:\n",
    "    json.dump(word_index, fp)\n",
    "\n",
    "with open(f'{output_dir}/index_word.json', 'w') as fp:\n",
    "    json.dump(index_word, fp)\n",
    "\n",
    "print('Saved.')"
   ]
  },
  {
   "cell_type": "markdown",
   "id": "e011e719",
   "metadata": {},
   "source": [
    "## Model"
   ]
  },
  {
   "cell_type": "code",
   "execution_count": 7,
   "id": "73806c12",
   "metadata": {},
   "outputs": [],
   "source": [
    "def get_model(vocab_size=10000, dense_vector_size=32, review_len=256):\n",
    "    \n",
    "    model = keras.Sequential()\n",
    "    model.add(keras.layers.Input( shape=(review_len,) ))\n",
    "    model.add(keras.layers.Embedding(input_dim    = vocab_size, \n",
    "                                     output_dim   = dense_vector_size, \n",
    "                                     input_length = review_len))\n",
    "    model.add(keras.layers.GlobalAveragePooling1D())\n",
    "    model.add(keras.layers.Dense(dense_vector_size, activation='relu'))\n",
    "    model.add(keras.layers.Dense(1,                 activation='sigmoid'))\n",
    "\n",
    "    model.compile(optimizer = 'adam',\n",
    "                  loss      = 'binary_crossentropy',\n",
    "                  metrics   = ['accuracy'])\n",
    "    return model"
   ]
  },
  {
   "cell_type": "code",
   "execution_count": 8,
   "id": "505d9a52",
   "metadata": {},
   "outputs": [
    {
     "name": "stdout",
     "output_type": "stream",
     "text": [
      "Model: \"sequential\"\n",
      "_________________________________________________________________\n",
      " Layer (type)                Output Shape              Param #   \n",
      "=================================================================\n",
      " embedding (Embedding)       (None, 256, 32)           160000    \n",
      "                                                                 \n",
      " global_average_pooling1d (G  (None, 32)               0         \n",
      " lobalAveragePooling1D)                                          \n",
      "                                                                 \n",
      " dense (Dense)               (None, 32)                1056      \n",
      "                                                                 \n",
      " dense_1 (Dense)             (None, 1)                 33        \n",
      "                                                                 \n",
      "=================================================================\n",
      "Total params: 161,089\n",
      "Trainable params: 161,089\n",
      "Non-trainable params: 0\n",
      "_________________________________________________________________\n"
     ]
    }
   ],
   "source": [
    "model = get_model(vocab_size, dense_vector_size, review_len)\n",
    "\n",
    "model.summary()"
   ]
  },
  {
   "cell_type": "code",
   "execution_count": 9,
   "id": "a845d374",
   "metadata": {},
   "outputs": [],
   "source": [
    "os.makedirs(f'{output_dir}/models',   mode=0o750, exist_ok=True)\n",
    "save_dir = f'{output_dir}/models/best_model.h5'\n",
    "savemodel_callback = tf.keras.callbacks.ModelCheckpoint(filepath=save_dir, verbose=0, save_best_only=True)"
   ]
  },
  {
   "cell_type": "code",
   "execution_count": 10,
   "id": "a23a5470",
   "metadata": {},
   "outputs": [
    {
     "name": "stdout",
     "output_type": "stream",
     "text": [
      "Epoch 1/30\n",
      "49/49 [==============================] - 2s 34ms/step - loss: 0.6881 - accuracy: 0.6170 - val_loss: 0.6786 - val_accuracy: 0.6967\n",
      "Epoch 2/30\n",
      "49/49 [==============================] - 2s 33ms/step - loss: 0.6526 - accuracy: 0.7310 - val_loss: 0.6192 - val_accuracy: 0.7580\n",
      "Epoch 3/30\n",
      "49/49 [==============================] - 2s 42ms/step - loss: 0.5663 - accuracy: 0.7914 - val_loss: 0.5218 - val_accuracy: 0.8059\n",
      "Epoch 4/30\n",
      "49/49 [==============================] - 2s 39ms/step - loss: 0.4602 - accuracy: 0.8363 - val_loss: 0.4282 - val_accuracy: 0.8409\n",
      "Epoch 5/30\n",
      "49/49 [==============================] - 2s 35ms/step - loss: 0.3795 - accuracy: 0.8650 - val_loss: 0.3729 - val_accuracy: 0.8558\n",
      "Epoch 6/30\n",
      "49/49 [==============================] - 2s 34ms/step - loss: 0.3298 - accuracy: 0.8777 - val_loss: 0.3395 - val_accuracy: 0.8654\n",
      "Epoch 7/30\n",
      "49/49 [==============================] - 2s 33ms/step - loss: 0.2972 - accuracy: 0.8880 - val_loss: 0.3204 - val_accuracy: 0.8695\n",
      "Epoch 8/30\n",
      "49/49 [==============================] - 2s 35ms/step - loss: 0.2739 - accuracy: 0.8958 - val_loss: 0.3076 - val_accuracy: 0.8739\n",
      "Epoch 9/30\n",
      "49/49 [==============================] - 2s 35ms/step - loss: 0.2564 - accuracy: 0.9027 - val_loss: 0.2993 - val_accuracy: 0.8773\n",
      "Epoch 10/30\n",
      "49/49 [==============================] - 2s 32ms/step - loss: 0.2428 - accuracy: 0.9076 - val_loss: 0.2957 - val_accuracy: 0.8775\n",
      "Epoch 11/30\n",
      "49/49 [==============================] - 1s 30ms/step - loss: 0.2308 - accuracy: 0.9123 - val_loss: 0.2911 - val_accuracy: 0.8793\n",
      "Epoch 12/30\n",
      "49/49 [==============================] - 2s 33ms/step - loss: 0.2207 - accuracy: 0.9162 - val_loss: 0.2933 - val_accuracy: 0.8792\n",
      "Epoch 13/30\n",
      "49/49 [==============================] - 2s 33ms/step - loss: 0.2129 - accuracy: 0.9198 - val_loss: 0.2904 - val_accuracy: 0.8798\n",
      "Epoch 14/30\n",
      "49/49 [==============================] - 1s 30ms/step - loss: 0.2047 - accuracy: 0.9228 - val_loss: 0.2904 - val_accuracy: 0.8801\n",
      "Epoch 15/30\n",
      "49/49 [==============================] - 2s 31ms/step - loss: 0.1991 - accuracy: 0.9242 - val_loss: 0.2931 - val_accuracy: 0.8791\n",
      "Epoch 16/30\n",
      "49/49 [==============================] - 1s 30ms/step - loss: 0.1926 - accuracy: 0.9274 - val_loss: 0.2930 - val_accuracy: 0.8803\n",
      "Epoch 17/30\n",
      "49/49 [==============================] - 2s 33ms/step - loss: 0.1870 - accuracy: 0.9307 - val_loss: 0.2992 - val_accuracy: 0.8778\n",
      "Epoch 18/30\n",
      "49/49 [==============================] - 2s 35ms/step - loss: 0.1828 - accuracy: 0.9321 - val_loss: 0.3011 - val_accuracy: 0.8787\n",
      "Epoch 19/30\n",
      "49/49 [==============================] - 2s 32ms/step - loss: 0.1787 - accuracy: 0.9335 - val_loss: 0.3032 - val_accuracy: 0.8784\n",
      "Epoch 20/30\n",
      "49/49 [==============================] - 2s 32ms/step - loss: 0.1746 - accuracy: 0.9358 - val_loss: 0.3057 - val_accuracy: 0.8771\n",
      "Epoch 21/30\n",
      "49/49 [==============================] - 2s 31ms/step - loss: 0.1703 - accuracy: 0.9380 - val_loss: 0.3099 - val_accuracy: 0.8761\n",
      "Epoch 22/30\n",
      "49/49 [==============================] - 1s 30ms/step - loss: 0.1667 - accuracy: 0.9388 - val_loss: 0.3140 - val_accuracy: 0.8754\n",
      "Epoch 23/30\n",
      "49/49 [==============================] - 2s 37ms/step - loss: 0.1643 - accuracy: 0.9398 - val_loss: 0.3190 - val_accuracy: 0.8758\n",
      "Epoch 24/30\n",
      "49/49 [==============================] - 2s 34ms/step - loss: 0.1616 - accuracy: 0.9407 - val_loss: 0.3238 - val_accuracy: 0.8751\n",
      "Epoch 25/30\n",
      "49/49 [==============================] - 1s 29ms/step - loss: 0.1584 - accuracy: 0.9424 - val_loss: 0.3324 - val_accuracy: 0.8706\n",
      "Epoch 26/30\n",
      "49/49 [==============================] - 2s 31ms/step - loss: 0.1562 - accuracy: 0.9428 - val_loss: 0.3324 - val_accuracy: 0.8719\n",
      "Epoch 27/30\n",
      "49/49 [==============================] - 2s 31ms/step - loss: 0.1532 - accuracy: 0.9444 - val_loss: 0.3376 - val_accuracy: 0.8711\n",
      "Epoch 28/30\n",
      "49/49 [==============================] - 2s 33ms/step - loss: 0.1506 - accuracy: 0.9458 - val_loss: 0.3454 - val_accuracy: 0.8683\n",
      "Epoch 29/30\n",
      "49/49 [==============================] - 2s 32ms/step - loss: 0.1485 - accuracy: 0.9469 - val_loss: 0.3476 - val_accuracy: 0.8690\n",
      "Epoch 30/30\n",
      "49/49 [==============================] - 2s 37ms/step - loss: 0.1466 - accuracy: 0.9474 - val_loss: 0.3529 - val_accuracy: 0.8687\n"
     ]
    }
   ],
   "source": [
    "history = model.fit(x_train,\n",
    "                    y_train,\n",
    "                    epochs          = epochs,\n",
    "                    batch_size      = batch_size,\n",
    "                    validation_data = (x_test, y_test),\n",
    "                    verbose         = fit_verbosity,\n",
    "                    callbacks       = [savemodel_callback])"
   ]
  },
  {
   "cell_type": "markdown",
   "id": "b8c75bee",
   "metadata": {},
   "source": [
    "## Result and prediction"
   ]
  },
  {
   "cell_type": "code",
   "execution_count": 11,
   "id": "c3a7c923",
   "metadata": {},
   "outputs": [
    {
     "data": {
      "image/png": "[encoded data removed]",
      "text/plain": [
       "<Figure size 576x576 with 2 Axes>"
      ]
     },
     "metadata": {
      "needs_background": "light"
     },
     "output_type": "display_data"
    }
   ],
   "source": [
    "acc = history.history['accuracy']\n",
    "val_acc = history.history['val_accuracy']\n",
    "\n",
    "loss = history.history['loss']\n",
    "val_loss = history.history['val_loss']\n",
    "\n",
    "epochs_range = range(epochs)\n",
    "\n",
    "plt.figure(figsize=(8, 8))\n",
    "plt.subplot(1, 2, 1)\n",
    "plt.plot(epochs_range, acc, label='Training Accuracy')\n",
    "plt.plot(epochs_range, val_acc, label='Validation Accuracy')\n",
    "plt.legend(loc='lower right')\n",
    "plt.title('Training and Validation Accuracy')\n",
    "\n",
    "plt.subplot(1, 2, 2)\n",
    "plt.plot(epochs_range, loss, label='Training Loss')\n",
    "plt.plot(epochs_range, val_loss, label='Validation Loss')\n",
    "plt.legend(loc='upper right')\n",
    "plt.title('Training and Validation Loss')\n",
    "plt.show()"
   ]
  },
  {
   "cell_type": "code",
   "execution_count": 12,
   "id": "c52b2b73",
   "metadata": {},
   "outputs": [
    {
     "name": "stdout",
     "output_type": "stream",
     "text": [
      "x_test / loss      : 0.2904\n",
      "x_test / accuracy  : 0.8801\n"
     ]
    }
   ],
   "source": [
    "model = keras.models.load_model(f'{output_dir}/models/best_model.h5')\n",
    "\n",
    "# ---- Evaluate\n",
    "score  = model.evaluate(x_test, y_test, verbose=0)\n",
    "\n",
    "print('x_test / loss      : {:5.4f}'.format(score[0]))\n",
    "print('x_test / accuracy  : {:5.4f}'.format(score[1]))\n",
    "\n"
   ]
  },
  {
   "cell_type": "code",
   "execution_count": 13,
   "id": "f0271aff",
   "metadata": {},
   "outputs": [
    {
     "data": {
      "text/plain": [
       "([<matplotlib.patches.Wedge at 0x1d2892860a0>,\n",
       "  <matplotlib.patches.Wedge at 0x1d2892867f0>],\n",
       " [Text(-0.7300087307652622, -0.82285311751642, 'Accuracy'),\n",
       "  Text(0.7300087307652623, 0.8228531175164199, 'Errors')],\n",
       " [Text(-0.39818658041741567, -0.44882897319077447, '88.0%'),\n",
       "  Text(0.3981865804174157, 0.4488289731907744, '12.0%')])"
      ]
     },
     "execution_count": 13,
     "metadata": {},
     "output_type": "execute_result"
    },
    {
     "data": {
      "image/png": "[encoded data removed]",
      "text/plain": [
       "<Figure size 432x288 with 1 Axes>"
      ]
     },
     "metadata": {},
     "output_type": "display_data"
    }
   ],
   "source": [
    "values=[score[1], 1-score[1]]\n",
    "plt.pie(values, labels=[\"Accuracy\", \"Errors\"], autopct='%1.1f%%', startangle=70, \n",
    "            textprops={'fontsize': 18})\n"
   ]
  },
  {
   "cell_type": "code",
   "execution_count": 14,
   "id": "b269eae7",
   "metadata": {},
   "outputs": [
    {
     "name": "stdout",
     "output_type": "stream",
     "text": [
      "782/782 [==============================] - 1s 1ms/step\n",
      "tf.Tensor(\n",
      "[[11136  1364]\n",
      " [ 1633 10867]], shape=(2, 2), dtype=int32)\n"
     ]
    },
    {
     "data": {
      "text/plain": [
       "<AxesSubplot:>"
      ]
     },
     "execution_count": 14,
     "metadata": {},
     "output_type": "execute_result"
    },
    {
     "data": {
      "image/png": "[encoded data removed]",
      "text/plain": [
       "<Figure size 432x288 with 2 Axes>"
      ]
     },
     "metadata": {
      "needs_background": "light"
     },
     "output_type": "display_data"
    }
   ],
   "source": [
    "# ---- Confusion matrix\n",
    "import seaborn as sns\n",
    "\n",
    "y_sigmoid = model.predict(x_test)\n",
    "\n",
    "y_pred = y_sigmoid.copy()\n",
    "y_pred[ y_sigmoid< 0.5 ] = 0\n",
    "y_pred[ y_sigmoid>=0.5 ] = 1    \n",
    "\n",
    "cf_matrix=tf.math.confusion_matrix(y_test, y_pred)\n",
    "print(cf_matrix)\n",
    "sns.heatmap(cf_matrix, annot=True)"
   ]
  },
  {
   "cell_type": "code",
   "execution_count": 15,
   "id": "cc44b2e7",
   "metadata": {},
   "outputs": [
    {
     "name": "stdout",
     "output_type": "stream",
     "text": [
      "         0        1\n",
      "0  0.89088  0.10912\n",
      "1  0.13064  0.86936\n"
     ]
    }
   ],
   "source": [
    "from sklearn.metrics import confusion_matrix\n",
    "import pandas as pd\n",
    "\n",
    "cm = confusion_matrix( y_test, y_pred, normalize=\"true\")\n",
    "df=pd.DataFrame(cm)\n",
    "print(df)"
   ]
  },
  {
   "cell_type": "code",
   "execution_count": 16,
   "id": "1c509050",
   "metadata": {},
   "outputs": [],
   "source": [
    "vocab_size           = 10000\n",
    "review_len           = 256"
   ]
  },
  {
   "cell_type": "code",
   "execution_count": 17,
   "id": "7d9fbee2",
   "metadata": {},
   "outputs": [],
   "source": [
    "reviews = [ \"This film is particularly nice, a must see.\",\n",
    "             \"This film is a great classic that cannot be ignored.\",\n",
    "             \"I don't remember ever having seen such a movie...\",\n",
    "             \"This movie is just abominable and doesn't deserve to be seen!\"]"
   ]
  },
  {
   "cell_type": "code",
   "execution_count": 18,
   "id": "28cd9435",
   "metadata": {},
   "outputs": [
    {
     "name": "stdout",
     "output_type": "stream",
     "text": [
      "Loaded.  88588 entries in word_index\n",
      "Loaded.  88588 entries in index_word\n"
     ]
    }
   ],
   "source": [
    "with open(f'{output_dir}/word_index.json', 'r') as fp:\n",
    "    word_index = json.load(fp)\n",
    "    word_index = { w:int(i) for w,i in word_index.items() }\n",
    "    print('Loaded. ', len(word_index), 'entries in word_index' )\n",
    "    index_word = { i:w      for w,i in word_index.items() }\n",
    "    print('Loaded. ', len(index_word), 'entries in index_word' )"
   ]
  },
  {
   "cell_type": "code",
   "execution_count": 19,
   "id": "75968bf0",
   "metadata": {},
   "outputs": [
    {
     "name": "stdout",
     "output_type": "stream",
     "text": [
      "Words are : 1 2 22 9 572 2 6 215 2 \n",
      "Words are : 1 2 22 9 6 87 356 15 566 30 2 \n",
      "Words are : 1 2 92 377 126 260 110 141 6 2 \n",
      "Words are : 1 2 20 9 43 2 5 152 1833 8 30 2 \n"
     ]
    }
   ],
   "source": [
    "nb_reviews = len(reviews)\n",
    "x_data     = []\n",
    "\n",
    "# ---- For all reviews\n",
    "for review in reviews:\n",
    "    print('Words are : ', end='')\n",
    "    # ---- First index must be <start>\n",
    "    index_review=[1]\n",
    "    print('1 ', end='')\n",
    "    # ---- For all words\n",
    "    for w in review.split(' '):\n",
    "        # ---- Clean it\n",
    "        w_clean = re.sub(r\"[^a-zA-Z0-9]\", \"\", w)\n",
    "        # ---- Not empty ?\n",
    "        if len(w_clean)>0:\n",
    "            # ---- Get the index\n",
    "            w_index = word_index.get(w,2)\n",
    "            if w_index>vocab_size : w_index=2\n",
    "            # ---- Add the index if < vocab_size\n",
    "            index_review.append(w_index)\n",
    "            print(f'{w_index} ', end='')\n",
    "    # ---- Add the indexed review\n",
    "    x_data.append(index_review)\n",
    "    print()\n",
    "\n",
    "# ---- Padding\n",
    "x_data = keras.preprocessing.sequence.pad_sequences(x_data, value   = 0, padding = 'post', maxlen  = review_len)"
   ]
  },
  {
   "cell_type": "code",
   "execution_count": 20,
   "id": "4b3991bb",
   "metadata": {},
   "outputs": [
    {
     "name": "stdout",
     "output_type": "stream",
     "text": [
      "\n",
      "Text review      : This film is particularly nice, a must see.\n",
      "x_train[0]       : [1, 2, 22, 9, 572, 2, 6, 215, 2, 0, 0, 0, 0, 0] (...)\n",
      "Translation      : <start> <unknown> film is particularly <unknown> a must <unknown> <pad> <pad> <pad> <pad> <pad> (...)\n",
      "\n",
      "Text review      : This film is a great classic that cannot be ignored.\n",
      "x_train[1]       : [1, 2, 22, 9, 6, 87, 356, 15, 566, 30, 2, 0, 0, 0, 0, 0] (...)\n",
      "Translation      : <start> <unknown> film is a great classic that cannot be <unknown> <pad> <pad> <pad> <pad> <pad> (...)\n",
      "\n",
      "Text review      : I don't remember ever having seen such a movie...\n",
      "x_train[2]       : [1, 2, 92, 377, 126, 260, 110, 141, 6, 2, 0, 0, 0, 0, 0] (...)\n",
      "Translation      : <start> <unknown> don't remember ever having seen such a <unknown> <pad> <pad> <pad> <pad> <pad> (...)\n",
      "\n",
      "Text review      : This movie is just abominable and doesn't deserve to be seen!\n",
      "x_train[3]       : [1, 2, 20, 9, 43, 2, 5, 152, 1833, 8, 30, 2, 0, 0, 0, 0, 0] (...)\n",
      "Translation      : <start> <unknown> movie is just <unknown> and doesn't deserve to be <unknown> <pad> <pad> <pad> <pad> <pad> (...)\n"
     ]
    }
   ],
   "source": [
    "def translate(x):\n",
    "    return ' '.join( [index_word.get(i,'?') for i in x] )\n",
    "\n",
    "for i in range(nb_reviews):\n",
    "    imax=np.where(x_data[i]==0)[0][0]+5\n",
    "    print(f'\\nText review      :',    reviews[i])\n",
    "    print(  f'x_train[{i:}]       :', list(x_data[i][:imax]), '(...)')\n",
    "    print(  'Translation      :', translate(x_data[i][:imax]), '(...)')"
   ]
  },
  {
   "cell_type": "code",
   "execution_count": 21,
   "id": "16bd536f",
   "metadata": {},
   "outputs": [],
   "source": [
    "model = keras.models.load_model(f'{output_dir}/models/best_model.h5')"
   ]
  },
  {
   "cell_type": "code",
   "execution_count": 22,
   "id": "2e3b01cf",
   "metadata": {},
   "outputs": [
    {
     "name": "stdout",
     "output_type": "stream",
     "text": [
      "1/1 [==============================] - 0s 43ms/step\n",
      "This film is particularly nice, a must see.                            => 0.53 - POSITIVE :-)\n",
      "This film is a great classic that cannot be ignored.                   => 0.68 - POSITIVE :-)\n",
      "I don't remember ever having seen such a movie...                      => 0.51 - POSITIVE :-)\n",
      "This movie is just abominable and doesn't deserve to be seen!          => 0.32 - NEGATIVE :-(\n"
     ]
    }
   ],
   "source": [
    "y_pred   = model.predict(x_data)\n",
    "\n",
    "for i,review in enumerate(reviews):\n",
    "    rate    = y_pred[i][0]\n",
    "    opinion =  'NEGATIVE :-(' if rate<0.5 else 'POSITIVE :-)'    \n",
    "    print(f'{review:<70} => {rate:.2f} - {opinion}')"
   ]
  },
  {
   "cell_type": "code",
   "execution_count": null,
   "id": "7a6147a2",
   "metadata": {},
   "outputs": [],
   "source": []
  }
 ],
 "metadata": {
  "kernelspec": {
   "display_name": "Python 3 (ipykernel)",
   "language": "python",
   "name": "python3"
  },
  "language_info": {
   "codemirror_mode": {
    "name": "ipython",
    "version": 3
   },
   "file_extension": ".py",
   "mimetype": "text/x-python",
   "name": "python",
   "nbconvert_exporter": "python",
   "pygments_lexer": "ipython3",
   "version": "3.9.12"
  }
 },
 "nbformat": 4,
 "nbformat_minor": 5
}
